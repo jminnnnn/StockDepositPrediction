{
 "cells": [
  {
   "cell_type": "markdown",
   "metadata": {},
   "source": [
    "### \"데이터 문화가 되다\"  \n",
    "2021(제2회) NH투자증권 빅데이터 경진대회 BASELINE"
   ]
  },
  {
   "cell_type": "markdown",
   "metadata": {},
   "source": [
    "BASELINE을 통해 간단한 데이터 소개와 함께 힌트를 제공하려고 합니다.  \n",
    "이번 대회는 stk_hld_train.csv 파일의 hold_d를 Y값으로 모델을 학습시키고  \n",
    "stk_hld_test.csv 파일의 hold_d를 예측하는 과제를 풀어야 합니다."
   ]
  },
  {
   "cell_type": "markdown",
   "metadata": {},
   "source": [
    "### 라이브러리 불러오기"
   ]
  },
  {
   "cell_type": "code",
   "execution_count": 1,
   "metadata": {},
   "outputs": [],
   "source": [
    "import pandas as pd\n",
    "pd.set_option(\"display.max_row\", 100)\n",
    "pd.set_option(\"display.max_column\", 100)\n",
    "import numpy as np\n",
    "import os\n",
    "\n",
    "from sklearn.preprocessing import LabelEncoder\n",
    "from sklearn.metrics import mean_squared_error as mse\n",
    "from sklearn.model_selection import train_test_split, StratifiedKFold, KFold\n",
    "from lightgbm import LGBMRegressor"
   ]
  },
  {
   "cell_type": "markdown",
   "metadata": {},
   "source": [
    "### 데이터 불러오기"
   ]
  },
  {
   "cell_type": "code",
   "execution_count": 2,
   "metadata": {},
   "outputs": [],
   "source": [
    "cus = pd.read_csv(\"open/cus_info.csv\")\n",
    "iem = pd.read_csv(\"open/iem_info_20210902.csv\")\n",
    "hist = pd.read_csv(\"open/stk_bnc_hist.csv\")\n",
    "train = pd.read_csv(\"open/stk_hld_train.csv\")\n",
    "test = pd.read_csv(\"open/stk_hld_test.csv\")\n",
    "\n",
    "submission = pd.read_csv(\"open/sample_submission.csv\")"
   ]
  },
  {
   "cell_type": "markdown",
   "metadata": {},
   "source": [
    "### 데이터 전처리"
   ]
  },
  {
   "cell_type": "code",
   "execution_count": 3,
   "metadata": {},
   "outputs": [],
   "source": [
    "# 앞서 언급한 것처럼 베이스라인에서는 \"hist_d\" column을 임의로 생성하여 모델을 학습시키도록 하겠습니다.\n",
    "# 베이스라인에서는 \"hold_d\"값, 즉 주식 보유기간의 0.6배에 해당하는 기간을 임의로 설정하여 \"hist_d\"를 생성하였습니다.\n",
    "# 결국 모델은 \"hist_d\"만큼 주식을 보유 했을때의 \"hold_d\"를 예측하게 될 것입니다.\n",
    "\n",
    "train[\"hist_d\"] = train[\"hold_d\"]*0.6\n",
    "train.hist_d = np.trunc(train[\"hist_d\"])"
   ]
  },
  {
   "cell_type": "code",
   "execution_count": 4,
   "metadata": {},
   "outputs": [
    {
     "data": {
      "text/html": [
       "<div>\n",
       "<style scoped>\n",
       "    .dataframe tbody tr th:only-of-type {\n",
       "        vertical-align: middle;\n",
       "    }\n",
       "\n",
       "    .dataframe tbody tr th {\n",
       "        vertical-align: top;\n",
       "    }\n",
       "\n",
       "    .dataframe thead th {\n",
       "        text-align: right;\n",
       "    }\n",
       "</style>\n",
       "<table border=\"1\" class=\"dataframe\">\n",
       "  <thead>\n",
       "    <tr style=\"text-align: right;\">\n",
       "      <th></th>\n",
       "      <th>act_id</th>\n",
       "      <th>iem_cd</th>\n",
       "      <th>byn_dt</th>\n",
       "      <th>hold_d</th>\n",
       "      <th>hist_d</th>\n",
       "    </tr>\n",
       "  </thead>\n",
       "  <tbody>\n",
       "    <tr>\n",
       "      <th>0</th>\n",
       "      <td>0ad104dbed99be0cd858aa772765ddedade554601a981b...</td>\n",
       "      <td>A006360</td>\n",
       "      <td>20180726</td>\n",
       "      <td>11</td>\n",
       "      <td>6.0</td>\n",
       "    </tr>\n",
       "    <tr>\n",
       "      <th>1</th>\n",
       "      <td>0ad104dbed99be0cd858aa772765ddedade554601a981b...</td>\n",
       "      <td>A005930</td>\n",
       "      <td>20180131</td>\n",
       "      <td>80</td>\n",
       "      <td>48.0</td>\n",
       "    </tr>\n",
       "    <tr>\n",
       "      <th>2</th>\n",
       "      <td>0ad104dbed99be0cd858aa772765ddedade554601a981b...</td>\n",
       "      <td>A005070</td>\n",
       "      <td>20180517</td>\n",
       "      <td>5</td>\n",
       "      <td>3.0</td>\n",
       "    </tr>\n",
       "  </tbody>\n",
       "</table>\n",
       "</div>"
      ],
      "text/plain": [
       "                                              act_id   iem_cd    byn_dt  \\\n",
       "0  0ad104dbed99be0cd858aa772765ddedade554601a981b...  A006360  20180726   \n",
       "1  0ad104dbed99be0cd858aa772765ddedade554601a981b...  A005930  20180131   \n",
       "2  0ad104dbed99be0cd858aa772765ddedade554601a981b...  A005070  20180517   \n",
       "\n",
       "   hold_d  hist_d  \n",
       "0      11     6.0  \n",
       "1      80    48.0  \n",
       "2       5     3.0  "
      ]
     },
     "execution_count": 4,
     "metadata": {},
     "output_type": "execute_result"
    }
   ],
   "source": [
    "train.head(3)"
   ]
  },
  {
   "cell_type": "code",
   "execution_count": 5,
   "metadata": {},
   "outputs": [],
   "source": [
    "# train과 test에 고객정보(cus_info)와 주식정보(iem_info)를 추가하겠습니다.\n",
    "\n",
    "train_data = pd.merge(train, cus, how = \"left\", on = [\"act_id\"])\n",
    "train_data = pd.merge(train_data, iem, how = \"left\", on = [\"iem_cd\"])\n",
    "\n",
    "test_data = pd.merge(test, cus, how = \"left\", on = [\"act_id\"])\n",
    "test_data = pd.merge(test_data, iem, how = \"left\", on = [\"iem_cd\"])"
   ]
  },
  {
   "cell_type": "code",
   "execution_count": 6,
   "metadata": {},
   "outputs": [
    {
     "data": {
      "text/html": [
       "<div>\n",
       "<style scoped>\n",
       "    .dataframe tbody tr th:only-of-type {\n",
       "        vertical-align: middle;\n",
       "    }\n",
       "\n",
       "    .dataframe tbody tr th {\n",
       "        vertical-align: top;\n",
       "    }\n",
       "\n",
       "    .dataframe thead th {\n",
       "        text-align: right;\n",
       "    }\n",
       "</style>\n",
       "<table border=\"1\" class=\"dataframe\">\n",
       "  <thead>\n",
       "    <tr style=\"text-align: right;\">\n",
       "      <th></th>\n",
       "      <th>act_id</th>\n",
       "      <th>iem_cd</th>\n",
       "      <th>byn_dt</th>\n",
       "      <th>hold_d</th>\n",
       "      <th>hist_d</th>\n",
       "      <th>sex_dit_cd</th>\n",
       "      <th>cus_age_stn_cd</th>\n",
       "      <th>ivs_icn_cd</th>\n",
       "      <th>cus_aet_stn_cd</th>\n",
       "      <th>mrz_pdt_tp_sgm_cd</th>\n",
       "      <th>lsg_sgm_cd</th>\n",
       "      <th>tco_cus_grd_cd</th>\n",
       "      <th>tot_ivs_te_sgm_cd</th>\n",
       "      <th>mrz_btp_dit_cd</th>\n",
       "      <th>iem_krl_nm</th>\n",
       "      <th>btp_cfc_cd</th>\n",
       "      <th>mkt_pr_tal_scl_tp_cd</th>\n",
       "      <th>stk_dit_cd</th>\n",
       "    </tr>\n",
       "  </thead>\n",
       "  <tbody>\n",
       "    <tr>\n",
       "      <th>0</th>\n",
       "      <td>0ad104dbed99be0cd858aa772765ddedade554601a981b...</td>\n",
       "      <td>A006360</td>\n",
       "      <td>20180726</td>\n",
       "      <td>11</td>\n",
       "      <td>6.0</td>\n",
       "      <td>1</td>\n",
       "      <td>9</td>\n",
       "      <td>3</td>\n",
       "      <td>2</td>\n",
       "      <td>2</td>\n",
       "      <td>9</td>\n",
       "      <td>5</td>\n",
       "      <td>5</td>\n",
       "      <td>8</td>\n",
       "      <td>GS건설</td>\n",
       "      <td>1</td>\n",
       "      <td>1</td>\n",
       "      <td>1</td>\n",
       "    </tr>\n",
       "    <tr>\n",
       "      <th>1</th>\n",
       "      <td>0ad104dbed99be0cd858aa772765ddedade554601a981b...</td>\n",
       "      <td>A005930</td>\n",
       "      <td>20180131</td>\n",
       "      <td>80</td>\n",
       "      <td>48.0</td>\n",
       "      <td>1</td>\n",
       "      <td>9</td>\n",
       "      <td>3</td>\n",
       "      <td>2</td>\n",
       "      <td>2</td>\n",
       "      <td>9</td>\n",
       "      <td>5</td>\n",
       "      <td>5</td>\n",
       "      <td>8</td>\n",
       "      <td>삼성전자</td>\n",
       "      <td>9</td>\n",
       "      <td>1</td>\n",
       "      <td>1</td>\n",
       "    </tr>\n",
       "    <tr>\n",
       "      <th>2</th>\n",
       "      <td>0ad104dbed99be0cd858aa772765ddedade554601a981b...</td>\n",
       "      <td>A005070</td>\n",
       "      <td>20180517</td>\n",
       "      <td>5</td>\n",
       "      <td>3.0</td>\n",
       "      <td>1</td>\n",
       "      <td>9</td>\n",
       "      <td>3</td>\n",
       "      <td>2</td>\n",
       "      <td>2</td>\n",
       "      <td>9</td>\n",
       "      <td>5</td>\n",
       "      <td>5</td>\n",
       "      <td>8</td>\n",
       "      <td>코스모신소재</td>\n",
       "      <td>12</td>\n",
       "      <td>2</td>\n",
       "      <td>99</td>\n",
       "    </tr>\n",
       "  </tbody>\n",
       "</table>\n",
       "</div>"
      ],
      "text/plain": [
       "                                              act_id   iem_cd    byn_dt  \\\n",
       "0  0ad104dbed99be0cd858aa772765ddedade554601a981b...  A006360  20180726   \n",
       "1  0ad104dbed99be0cd858aa772765ddedade554601a981b...  A005930  20180131   \n",
       "2  0ad104dbed99be0cd858aa772765ddedade554601a981b...  A005070  20180517   \n",
       "\n",
       "   hold_d  hist_d  sex_dit_cd  cus_age_stn_cd  ivs_icn_cd  cus_aet_stn_cd  \\\n",
       "0      11     6.0           1               9           3               2   \n",
       "1      80    48.0           1               9           3               2   \n",
       "2       5     3.0           1               9           3               2   \n",
       "\n",
       "   mrz_pdt_tp_sgm_cd  lsg_sgm_cd  tco_cus_grd_cd  tot_ivs_te_sgm_cd  \\\n",
       "0                  2           9               5                  5   \n",
       "1                  2           9               5                  5   \n",
       "2                  2           9               5                  5   \n",
       "\n",
       "   mrz_btp_dit_cd iem_krl_nm  btp_cfc_cd  mkt_pr_tal_scl_tp_cd  stk_dit_cd  \n",
       "0               8       GS건설           1                     1           1  \n",
       "1               8       삼성전자           9                     1           1  \n",
       "2               8     코스모신소재          12                     2          99  "
      ]
     },
     "execution_count": 6,
     "metadata": {},
     "output_type": "execute_result"
    }
   ],
   "source": [
    "train_data.head(3)"
   ]
  },
  {
   "cell_type": "code",
   "execution_count": 7,
   "metadata": {},
   "outputs": [],
   "source": [
    "# train_data에서 Y값을 추출한 후 hold_d column을 지워주겠습니다.\n",
    "\n",
    "train_label = train_data[\"hold_d\"]\n",
    "# train_data.drop([\"hold_d\"], axis = 1, inplace = True)"
   ]
  },
  {
   "cell_type": "code",
   "execution_count": 8,
   "metadata": {},
   "outputs": [],
   "source": [
    "# 추가적으로 약간의 전처리를 통해 train data와 test data를 구성하겠습니다.\n",
    "\n",
    "hist[\"stk_p\"] = hist[\"tot_aet_amt\"] / hist[\"bnc_qty\"]\n",
    "hist = hist.fillna(0)\n",
    "\n",
    "\n",
    "train_data = pd.merge(train_data, hist, how = \"left\", on = [\"act_id\", \"iem_cd\"])\n",
    "train_data = train_data[(train_data[\"byn_dt\"] == train_data[\"bse_dt\"])]\n",
    "train_data.reset_index(drop = True, inplace = True)\n",
    "\n",
    "test_data = pd.merge(test_data, hist, how = \"left\", on = [\"act_id\", \"iem_cd\"])\n",
    "test_data = test_data[(test_data[\"byn_dt\"] == test_data[\"bse_dt\"])]\n",
    "test_data.reset_index(drop = True, inplace = True)\n",
    "\n",
    "train_data = train_data.drop([\"act_id\", \"iem_cd\", \"byn_dt\", \"bse_dt\"], axis = 1)\n",
    "\n",
    "test_data = test_data.drop([\"act_id\", \"iem_cd\", \"byn_dt\", \"submit_id\",'hold_d', \"bse_dt\"], axis = 1)\n",
    "\n",
    "L_encoder = LabelEncoder()\n",
    "L_encoder.fit(iem[\"iem_krl_nm\"])\n",
    "train_data[\"iem_krl_nm\"] = L_encoder.transform(train_data[\"iem_krl_nm\"])\n",
    "test_data[\"iem_krl_nm\"] = L_encoder.transform(test_data[\"iem_krl_nm\"])"
   ]
  },
  {
   "cell_type": "code",
   "execution_count": 9,
   "metadata": {},
   "outputs": [
    {
     "data": {
      "text/html": [
       "<div>\n",
       "<style scoped>\n",
       "    .dataframe tbody tr th:only-of-type {\n",
       "        vertical-align: middle;\n",
       "    }\n",
       "\n",
       "    .dataframe tbody tr th {\n",
       "        vertical-align: top;\n",
       "    }\n",
       "\n",
       "    .dataframe thead th {\n",
       "        text-align: right;\n",
       "    }\n",
       "</style>\n",
       "<table border=\"1\" class=\"dataframe\">\n",
       "  <thead>\n",
       "    <tr style=\"text-align: right;\">\n",
       "      <th></th>\n",
       "      <th>hold_d</th>\n",
       "      <th>hist_d</th>\n",
       "      <th>sex_dit_cd</th>\n",
       "      <th>cus_age_stn_cd</th>\n",
       "      <th>ivs_icn_cd</th>\n",
       "      <th>cus_aet_stn_cd</th>\n",
       "      <th>mrz_pdt_tp_sgm_cd</th>\n",
       "      <th>lsg_sgm_cd</th>\n",
       "      <th>tco_cus_grd_cd</th>\n",
       "      <th>tot_ivs_te_sgm_cd</th>\n",
       "      <th>mrz_btp_dit_cd</th>\n",
       "      <th>iem_krl_nm</th>\n",
       "      <th>btp_cfc_cd</th>\n",
       "      <th>mkt_pr_tal_scl_tp_cd</th>\n",
       "      <th>stk_dit_cd</th>\n",
       "      <th>bnc_qty</th>\n",
       "      <th>tot_aet_amt</th>\n",
       "      <th>stk_par_pr</th>\n",
       "      <th>stk_p</th>\n",
       "    </tr>\n",
       "  </thead>\n",
       "  <tbody>\n",
       "    <tr>\n",
       "      <th>0</th>\n",
       "      <td>11</td>\n",
       "      <td>6.0</td>\n",
       "      <td>1</td>\n",
       "      <td>9</td>\n",
       "      <td>3</td>\n",
       "      <td>2</td>\n",
       "      <td>2</td>\n",
       "      <td>9</td>\n",
       "      <td>5</td>\n",
       "      <td>5</td>\n",
       "      <td>8</td>\n",
       "      <td>101</td>\n",
       "      <td>1</td>\n",
       "      <td>1</td>\n",
       "      <td>1</td>\n",
       "      <td>274.0</td>\n",
       "      <td>11782000.0</td>\n",
       "      <td>5000.0</td>\n",
       "      <td>43000.0</td>\n",
       "    </tr>\n",
       "    <tr>\n",
       "      <th>1</th>\n",
       "      <td>80</td>\n",
       "      <td>48.0</td>\n",
       "      <td>1</td>\n",
       "      <td>9</td>\n",
       "      <td>3</td>\n",
       "      <td>2</td>\n",
       "      <td>2</td>\n",
       "      <td>9</td>\n",
       "      <td>5</td>\n",
       "      <td>5</td>\n",
       "      <td>8</td>\n",
       "      <td>1361</td>\n",
       "      <td>9</td>\n",
       "      <td>1</td>\n",
       "      <td>1</td>\n",
       "      <td>2.0</td>\n",
       "      <td>4990000.0</td>\n",
       "      <td>5000.0</td>\n",
       "      <td>2495000.0</td>\n",
       "    </tr>\n",
       "    <tr>\n",
       "      <th>2</th>\n",
       "      <td>5</td>\n",
       "      <td>3.0</td>\n",
       "      <td>1</td>\n",
       "      <td>9</td>\n",
       "      <td>3</td>\n",
       "      <td>2</td>\n",
       "      <td>2</td>\n",
       "      <td>9</td>\n",
       "      <td>5</td>\n",
       "      <td>5</td>\n",
       "      <td>8</td>\n",
       "      <td>2530</td>\n",
       "      <td>12</td>\n",
       "      <td>2</td>\n",
       "      <td>99</td>\n",
       "      <td>786.0</td>\n",
       "      <td>14619600.0</td>\n",
       "      <td>1000.0</td>\n",
       "      <td>18600.0</td>\n",
       "    </tr>\n",
       "  </tbody>\n",
       "</table>\n",
       "</div>"
      ],
      "text/plain": [
       "   hold_d  hist_d  sex_dit_cd  cus_age_stn_cd  ivs_icn_cd  cus_aet_stn_cd  \\\n",
       "0      11     6.0           1               9           3               2   \n",
       "1      80    48.0           1               9           3               2   \n",
       "2       5     3.0           1               9           3               2   \n",
       "\n",
       "   mrz_pdt_tp_sgm_cd  lsg_sgm_cd  tco_cus_grd_cd  tot_ivs_te_sgm_cd  \\\n",
       "0                  2           9               5                  5   \n",
       "1                  2           9               5                  5   \n",
       "2                  2           9               5                  5   \n",
       "\n",
       "   mrz_btp_dit_cd  iem_krl_nm  btp_cfc_cd  mkt_pr_tal_scl_tp_cd  stk_dit_cd  \\\n",
       "0               8         101           1                     1           1   \n",
       "1               8        1361           9                     1           1   \n",
       "2               8        2530          12                     2          99   \n",
       "\n",
       "   bnc_qty  tot_aet_amt  stk_par_pr      stk_p  \n",
       "0    274.0   11782000.0      5000.0    43000.0  \n",
       "1      2.0    4990000.0      5000.0  2495000.0  \n",
       "2    786.0   14619600.0      1000.0    18600.0  "
      ]
     },
     "execution_count": 9,
     "metadata": {},
     "output_type": "execute_result"
    }
   ],
   "source": [
    "train_data.head(3)"
   ]
  },
  {
   "cell_type": "code",
   "execution_count": 10,
   "metadata": {},
   "outputs": [
    {
     "data": {
      "text/html": [
       "<div>\n",
       "<style scoped>\n",
       "    .dataframe tbody tr th:only-of-type {\n",
       "        vertical-align: middle;\n",
       "    }\n",
       "\n",
       "    .dataframe tbody tr th {\n",
       "        vertical-align: top;\n",
       "    }\n",
       "\n",
       "    .dataframe thead th {\n",
       "        text-align: right;\n",
       "    }\n",
       "</style>\n",
       "<table border=\"1\" class=\"dataframe\">\n",
       "  <thead>\n",
       "    <tr style=\"text-align: right;\">\n",
       "      <th></th>\n",
       "      <th>hist_d</th>\n",
       "      <th>sex_dit_cd</th>\n",
       "      <th>cus_age_stn_cd</th>\n",
       "      <th>ivs_icn_cd</th>\n",
       "      <th>cus_aet_stn_cd</th>\n",
       "      <th>mrz_pdt_tp_sgm_cd</th>\n",
       "      <th>lsg_sgm_cd</th>\n",
       "      <th>tco_cus_grd_cd</th>\n",
       "      <th>tot_ivs_te_sgm_cd</th>\n",
       "      <th>mrz_btp_dit_cd</th>\n",
       "      <th>iem_krl_nm</th>\n",
       "      <th>btp_cfc_cd</th>\n",
       "      <th>mkt_pr_tal_scl_tp_cd</th>\n",
       "      <th>stk_dit_cd</th>\n",
       "      <th>bnc_qty</th>\n",
       "      <th>tot_aet_amt</th>\n",
       "      <th>stk_par_pr</th>\n",
       "      <th>stk_p</th>\n",
       "    </tr>\n",
       "  </thead>\n",
       "  <tbody>\n",
       "    <tr>\n",
       "      <th>0</th>\n",
       "      <td>153</td>\n",
       "      <td>1</td>\n",
       "      <td>9</td>\n",
       "      <td>3</td>\n",
       "      <td>2</td>\n",
       "      <td>2</td>\n",
       "      <td>9</td>\n",
       "      <td>5</td>\n",
       "      <td>5</td>\n",
       "      <td>8</td>\n",
       "      <td>418</td>\n",
       "      <td>4</td>\n",
       "      <td>1</td>\n",
       "      <td>1</td>\n",
       "      <td>300.0</td>\n",
       "      <td>3945000.0</td>\n",
       "      <td>5000.0</td>\n",
       "      <td>13150.0</td>\n",
       "    </tr>\n",
       "    <tr>\n",
       "      <th>1</th>\n",
       "      <td>335</td>\n",
       "      <td>1</td>\n",
       "      <td>9</td>\n",
       "      <td>3</td>\n",
       "      <td>2</td>\n",
       "      <td>2</td>\n",
       "      <td>9</td>\n",
       "      <td>5</td>\n",
       "      <td>5</td>\n",
       "      <td>8</td>\n",
       "      <td>2230</td>\n",
       "      <td>10</td>\n",
       "      <td>3</td>\n",
       "      <td>99</td>\n",
       "      <td>198.0</td>\n",
       "      <td>2524500.0</td>\n",
       "      <td>500.0</td>\n",
       "      <td>12750.0</td>\n",
       "    </tr>\n",
       "    <tr>\n",
       "      <th>2</th>\n",
       "      <td>139</td>\n",
       "      <td>1</td>\n",
       "      <td>9</td>\n",
       "      <td>3</td>\n",
       "      <td>2</td>\n",
       "      <td>2</td>\n",
       "      <td>9</td>\n",
       "      <td>5</td>\n",
       "      <td>5</td>\n",
       "      <td>8</td>\n",
       "      <td>1515</td>\n",
       "      <td>13</td>\n",
       "      <td>2</td>\n",
       "      <td>99</td>\n",
       "      <td>138.0</td>\n",
       "      <td>4291800.0</td>\n",
       "      <td>500.0</td>\n",
       "      <td>31100.0</td>\n",
       "    </tr>\n",
       "  </tbody>\n",
       "</table>\n",
       "</div>"
      ],
      "text/plain": [
       "   hist_d  sex_dit_cd  cus_age_stn_cd  ivs_icn_cd  cus_aet_stn_cd  \\\n",
       "0     153           1               9           3               2   \n",
       "1     335           1               9           3               2   \n",
       "2     139           1               9           3               2   \n",
       "\n",
       "   mrz_pdt_tp_sgm_cd  lsg_sgm_cd  tco_cus_grd_cd  tot_ivs_te_sgm_cd  \\\n",
       "0                  2           9               5                  5   \n",
       "1                  2           9               5                  5   \n",
       "2                  2           9               5                  5   \n",
       "\n",
       "   mrz_btp_dit_cd  iem_krl_nm  btp_cfc_cd  mkt_pr_tal_scl_tp_cd  stk_dit_cd  \\\n",
       "0               8         418           4                     1           1   \n",
       "1               8        2230          10                     3          99   \n",
       "2               8        1515          13                     2          99   \n",
       "\n",
       "   bnc_qty  tot_aet_amt  stk_par_pr    stk_p  \n",
       "0    300.0    3945000.0      5000.0  13150.0  \n",
       "1    198.0    2524500.0       500.0  12750.0  \n",
       "2    138.0    4291800.0       500.0  31100.0  "
      ]
     },
     "execution_count": 10,
     "metadata": {},
     "output_type": "execute_result"
    }
   ],
   "source": [
    "test_data.head(3)"
   ]
  },
  {
   "cell_type": "code",
   "execution_count": 11,
   "metadata": {},
   "outputs": [],
   "source": [
    "train_data.reset_index(drop = True, inplace=True)\n",
    "train_label.reset_index(drop = True, inplace=True)"
   ]
  },
  {
   "cell_type": "code",
   "execution_count": 12,
   "metadata": {},
   "outputs": [],
   "source": [
    "def get_rmse(model):\n",
    "    pred = model.predict(X_test)\n",
    "    mse = mean_squared_error(y_test , pred)\n",
    "    rmse = np.sqrt(mse)\n",
    "    print('{0} 로그 변환된 RMSE: {1}'.format(model.__class__.__name__,np.round(rmse, 3)))\n",
    "    return rmse\n",
    "\n",
    "def get_rmses(models):\n",
    "    rmses = [ ]\n",
    "    for model in models:\n",
    "        rmse = get_rmse(model)\n",
    "        rmses.append(rmse)\n",
    "    return rmses"
   ]
  },
  {
   "cell_type": "code",
   "execution_count": 13,
   "metadata": {},
   "outputs": [
    {
     "name": "stdout",
     "output_type": "stream",
     "text": [
      "LinearRegression 로그 변환된 RMSE: 0.423\n",
      "Ridge 로그 변환된 RMSE: 0.423\n",
      "Lasso 로그 변환된 RMSE: 0.424\n"
     ]
    },
    {
     "data": {
      "text/plain": [
       "[0.42331018554063427, 0.4233101848346302, 0.42446127752885643]"
      ]
     },
     "execution_count": 13,
     "metadata": {},
     "output_type": "execute_result"
    }
   ],
   "source": [
    "from sklearn.linear_model import LinearRegression, Ridge, Lasso\n",
    "from sklearn.model_selection import train_test_split\n",
    "from sklearn.metrics import mean_squared_error\n",
    "\n",
    "y_target = train_data['hold_d']\n",
    "X_features = train_data.drop('hold_d',axis=1, inplace=False)\n",
    "\n",
    "\n",
    "X_train, X_test, y_train, y_test = train_test_split(X_features, y_target, test_size=0.2, random_state=156)\n",
    "\n",
    "\n",
    "\n",
    "\n",
    "lr_reg = LinearRegression()\n",
    "lr_reg.fit(X_train, y_train)\n",
    "\n",
    "ridge_reg = Ridge()\n",
    "ridge_reg.fit(X_train, y_train)\n",
    "\n",
    "lasso_reg = Lasso()\n",
    "lasso_reg.fit(X_train, y_train)\n",
    "\n",
    "models = [lr_reg, ridge_reg, lasso_reg]\n",
    "get_rmses(models)"
   ]
  },
  {
   "cell_type": "markdown",
   "metadata": {},
   "source": [
    "### 결과물 저장"
   ]
  },
  {
   "cell_type": "markdown",
   "metadata": {},
   "source": [
    "끝으로 2021(제2회) NH투자증권 빅데이터 경진대회는 외부데이터의 사용을 적극적으로 권장합니다.  \n",
    "참가자 여러분들의 다양한 데이터와 창의적인 방법을 통해 주식 보유기간 예측 모델을 고도화시켜 주시길 바라겠습니다."
   ]
  },
  {
   "cell_type": "code",
   "execution_count": 14,
   "metadata": {},
   "outputs": [],
   "source": [
    "\n",
    "def get_top_bottom_coef(model):\n",
    "    # coef_ 속성을 기반으로 Series 객체를 생성. index는 컬럼명. \n",
    "    coef = pd.Series(model.coef_, index=train_label.columns)\n",
    "    \n",
    "    # + 상위 10개 , - 하위 10개 coefficient 추출하여 반환.\n",
    "    coef_high = coef.sort_values(ascending=False).head(10)\n",
    "    coef_low = coef.sort_values(ascending=False).tail(10)\n",
    "    return coef_high, coef_low"
   ]
  },
  {
   "cell_type": "code",
   "execution_count": 15,
   "metadata": {},
   "outputs": [
    {
     "name": "stdout",
     "output_type": "stream",
     "text": [
      "\n",
      "LinearRegression CV RMSE 값 리스트: [0.427 0.421 0.424 0.42  0.424]\n",
      "LinearRegression CV 평균 RMSE 값: 0.423\n",
      "\n",
      "Ridge CV RMSE 값 리스트: [0.427 0.421 0.424 0.42  0.424]\n",
      "Ridge CV 평균 RMSE 값: 0.423\n",
      "\n",
      "Lasso CV RMSE 값 리스트: [0.432 0.426 0.425 0.419 0.423]\n",
      "Lasso CV 평균 RMSE 값: 0.425\n"
     ]
    }
   ],
   "source": [
    "from sklearn.model_selection import cross_val_score\n",
    "\n",
    "def get_avg_rmse_cv(models):\n",
    "    for model in models:\n",
    "        # 분할하지 않고 전체 데이터로 cross_val_score( ) 수행. 모델별 CV RMSE값과 평균 RMSE 출력\n",
    "        rmse_list = np.sqrt(-cross_val_score(model, X_features, y_target,\n",
    "                                             scoring=\"neg_mean_squared_error\", cv = 5))\n",
    "        rmse_avg = np.mean(rmse_list)\n",
    "        print('\\n{0} CV RMSE 값 리스트: {1}'.format( model.__class__.__name__, np.round(rmse_list, 3)))\n",
    "        print('{0} CV 평균 RMSE 값: {1}'.format( model.__class__.__name__, np.round(rmse_avg, 3)))\n",
    "\n",
    "# 앞 예제에서 학습한 lr_reg, ridge_reg, lasso_reg 모델의 CV RMSE값 출력           \n",
    "models = [lr_reg, ridge_reg, lasso_reg]\n",
    "get_avg_rmse_cv(models)"
   ]
  },
  {
   "cell_type": "code",
   "execution_count": 16,
   "metadata": {
    "scrolled": true
   },
   "outputs": [
    {
     "name": "stdout",
     "output_type": "stream",
     "text": [
      "Ridge 5 CV 시 최적 평균 RMSE 값: 0.4232, 최적 alpha:{'alpha': 0.05}\n",
      "Lasso 5 CV 시 최적 평균 RMSE 값: 0.4232, 최적 alpha:{'alpha': 0.001}\n"
     ]
    }
   ],
   "source": [
    "from sklearn.model_selection import GridSearchCV\n",
    "\n",
    "def get_best_params(model, params):\n",
    "    grid_model = GridSearchCV(model, param_grid=params, \n",
    "                              scoring='neg_mean_squared_error', cv=5)\n",
    "    grid_model.fit(X_features, y_target)\n",
    "    rmse = np.sqrt(-1* grid_model.best_score_)\n",
    "    print('{0} 5 CV 시 최적 평균 RMSE 값: {1}, 최적 alpha:{2}'.format(model.__class__.__name__,\n",
    "                                        np.round(rmse, 4), grid_model.best_params_))\n",
    "    return grid_model.best_estimator_\n",
    "\n",
    "ridge_params = { 'alpha':[0.05, 0.1, 1, 5, 8, 10, 12, 15, 20] }\n",
    "lasso_params = { 'alpha':[0.001, 0.005, 0.008, 0.05, 0.03, 0.1, 0.5, 1,5, 10] }\n",
    "best_rige = get_best_params(ridge_reg, ridge_params)\n",
    "best_lasso = get_best_params(lasso_reg, lasso_params)"
   ]
  },
  {
   "cell_type": "code",
   "execution_count": 17,
   "metadata": {},
   "outputs": [
    {
     "name": "stdout",
     "output_type": "stream",
     "text": [
      "LinearRegression 로그 변환된 RMSE: 0.423\n",
      "Ridge 로그 변환된 RMSE: 0.423\n",
      "Lasso 로그 변환된 RMSE: 0.423\n"
     ]
    }
   ],
   "source": [
    "# 앞의 최적화 alpha값으로 학습데이터로 학습, 테스트 데이터로 예측 및 평가 수행. \n",
    "lr_reg = LinearRegression()\n",
    "lr_reg.fit(X_train, y_train)\n",
    "ridge_reg = Ridge(alpha=0.05)\n",
    "ridge_reg.fit(X_train, y_train)\n",
    "lasso_reg = Lasso(alpha=0.001)\n",
    "lasso_reg.fit(X_train, y_train)\n",
    "\n",
    "# 모든 모델의 RMSE 출력\n",
    "models = [lr_reg, ridge_reg, lasso_reg]\n",
    "get_rmses(models)\n",
    "\n",
    "# 모든 모델의 회귀 계수 시각화 \n",
    "models = [lr_reg, ridge_reg, lasso_reg]\n",
    "# visualize_coefficient(models)"
   ]
  },
  {
   "cell_type": "code",
   "execution_count": 18,
   "metadata": {},
   "outputs": [],
   "source": [
    "\n",
    "# from scipy.stats import skew\n",
    "\n",
    "# # object가 아닌 숫자형 피쳐의 컬럼 index 객체 추출.\n",
    "# features_index = train_data.dtypes[train_data.dtypes != 'object'].index\n",
    "# # house_df에 컬럼 index를 [ ]로 입력하면 해당하는 컬럼 데이터 셋 반환. apply lambda로 skew( )호출 \n",
    "# skew_features = train_data[features_index].apply(lambda x : skew(x))\n",
    "# # skew 정도가 5 이상인 컬럼들만 추출. \n",
    "# skew_features_top = skew_features[skew_features > 1]\n",
    "# print(skew_features_top.sort_values(ascending=False))"
   ]
  },
  {
   "cell_type": "code",
   "execution_count": 19,
   "metadata": {},
   "outputs": [],
   "source": [
    "\n",
    "# train_data[skew_features_top.index] = np.log1p(train_data[skew_features_top.index])"
   ]
  },
  {
   "cell_type": "code",
   "execution_count": 20,
   "metadata": {},
   "outputs": [],
   "source": [
    "# Skew가 높은 피처들을 로그 변환 했으므로 다시 원-핫 인코딩 적용 및 피처/타겟 데이터 셋 생성,\n",
    "train_data_ohe = pd.get_dummies(train_data)\n",
    "y_target = train_data_ohe['hold_d']\n",
    "X_features = train_data_ohe.drop('hold_d',axis=1, inplace=False)\n",
    "X_train, X_test, y_train, y_test = train_test_split(X_features, y_target, test_size=0.2, random_state=156)\n",
    "\n",
    "# 피처들을 로그 변환 후 다시 최적 하이퍼 파라미터와 RMSE 출력\n",
    "ridge_params = { 'alpha':[0.05, 0.1, 1, 5, 8, 10, 12, 15, 20] }\n",
    "lasso_params = { 'alpha':[0.001, 0.005, 0.008, 0.05, 0.03, 0.1, 0.5, 1,5, 10] }\n",
    "best_ridge = get_best_params(ridge_reg, ridge_params)\n",
    "best_lasso = get_best_params(lasso_reg, lasso_params)"
   ]
  },
  {
   "cell_type": "code",
   "execution_count": 22,
   "metadata": {},
   "outputs": [
    {
     "name": "stdout",
     "output_type": "stream",
     "text": [
      "LinearRegression 로그 변환된 RMSE: 0.423\n",
      "Ridge 로그 변환된 RMSE: 0.423\n",
      "Lasso 로그 변환된 RMSE: 0.423\n"
     ]
    }
   ],
   "source": [
    "lr_reg = LinearRegression()\n",
    "lr_reg.fit(X_train, y_train)\n",
    "ridge_reg = Ridge(alpha=0.05)\n",
    "ridge_reg.fit(X_train, y_train)\n",
    "lasso_reg = Lasso(alpha=0.001)\n",
    "lasso_reg.fit(X_train, y_train)\n",
    "\n",
    "# 모든 모델의 RMSE 출력\n",
    "models = [lr_reg, ridge_reg, lasso_reg]\n",
    "get_rmses(models)\n",
    "\n",
    "# 모든 모델의 회귀 계수 시각화 \n",
    "models = [lr_reg, ridge_reg, lasso_reg]\n",
    "# visualize_coefficient(models)"
   ]
  },
  {
   "cell_type": "code",
   "execution_count": 24,
   "metadata": {},
   "outputs": [
    {
     "name": "stdout",
     "output_type": "stream",
     "text": [
      "XGBRegressor 5 CV 시 최적 평균 RMSE 값: 5.542, 최적 alpha:{'n_estimators': 500}\n"
     ]
    }
   ],
   "source": [
    "from xgboost import XGBRegressor\n",
    "\n",
    "xgb_params = {'n_estimators':[500]}\n",
    "xgb_reg = XGBRegressor(n_estimators=1000, learning_rate=0.05, \n",
    "                       colsample_bytree=0.5, subsample=0.8,tree_method='gpu_hist')\n",
    "best_xgb = get_best_params(xgb_reg, xgb_params)"
   ]
  },
  {
   "cell_type": "code",
   "execution_count": 25,
   "metadata": {},
   "outputs": [
    {
     "name": "stdout",
     "output_type": "stream",
     "text": [
      "LGBMRegressor 5 CV 시 최적 평균 RMSE 값: 1.7061, 최적 alpha:{'n_estimators': 1000}\n"
     ]
    }
   ],
   "source": [
    "from lightgbm import LGBMRegressor\n",
    "\n",
    "lgbm_params = {'n_estimators':[1000]}\n",
    "lgbm_reg = LGBMRegressor(n_estimators=1000, learning_rate=0.05, num_leaves=4, \n",
    "                         subsample=0.6, colsample_bytree=0.4, reg_lambda=10, n_jobs=-1)\n",
    "best_lgbm = get_best_params(lgbm_reg, lgbm_params)"
   ]
  },
  {
   "cell_type": "code",
   "execution_count": 26,
   "metadata": {},
   "outputs": [
    {
     "name": "stdout",
     "output_type": "stream",
     "text": [
      "최종 혼합 모델의 RMSE: 0.4233069208248264\n",
      "Ridge 모델의 RMSE: 0.423310179893378\n",
      "Lasso 모델의 RMSE: 0.42330816985900077\n"
     ]
    }
   ],
   "source": [
    "def get_rmse_pred(preds):\n",
    "    for key in preds.keys():\n",
    "        pred_value = preds[key]\n",
    "        mse = mean_squared_error(y_test , pred_value)\n",
    "        rmse = np.sqrt(mse)\n",
    "        print('{0} 모델의 RMSE: {1}'.format(key, rmse))\n",
    "\n",
    "# 개별 모델의 학습\n",
    "ridge_reg = Ridge(alpha=8)\n",
    "ridge_reg.fit(X_train, y_train)\n",
    "lasso_reg = Lasso(alpha=0.001)\n",
    "lasso_reg.fit(X_train, y_train)\n",
    "# 개별 모델 예측\n",
    "ridge_pred = ridge_reg.predict(X_test)\n",
    "lasso_pred = lasso_reg.predict(X_test)\n",
    "\n",
    "# 개별 모델 예측값 혼합으로 최종 예측값 도출\n",
    "pred = 0.4 * ridge_pred + 0.6 * lasso_pred\n",
    "preds = {'최종 혼합': pred,\n",
    "         'Ridge': ridge_pred,\n",
    "         'Lasso': lasso_pred}\n",
    "#최종 혼합 모델, 개별모델의 RMSE 값 출력\n",
    "get_rmse_pred(preds)"
   ]
  },
  {
   "cell_type": "code",
   "execution_count": 28,
   "metadata": {},
   "outputs": [
    {
     "name": "stdout",
     "output_type": "stream",
     "text": [
      "최종 혼합 모델의 RMSE: 3.2966166951076032\n",
      "XGBM 모델의 RMSE: 6.03633746069641\n",
      "LGBM 모델의 RMSE: 1.441748259719851\n"
     ]
    }
   ],
   "source": [
    "xgb_reg = XGBRegressor(n_estimators=1000, learning_rate=0.05, \n",
    "                       colsample_bytree=0.5, subsample=0.8,tree_method='gpu_hist')\n",
    "lgbm_reg = LGBMRegressor(n_estimators=1000, learning_rate=0.05, num_leaves=4, \n",
    "                         subsample=0.6, colsample_bytree=0.4, reg_lambda=10, n_jobs=-1)\n",
    "xgb_reg.fit(X_train, y_train)\n",
    "lgbm_reg.fit(X_train, y_train)\n",
    "xgb_pred = xgb_reg.predict(X_test)\n",
    "lgbm_pred = lgbm_reg.predict(X_test)\n",
    "\n",
    "pred = 0.5 * xgb_pred + 0.5 * lgbm_pred\n",
    "preds = {'최종 혼합': pred,\n",
    "         'XGBM': xgb_pred,\n",
    "         'LGBM': lgbm_pred}\n",
    "        \n",
    "get_rmse_pred(preds)\n",
    "\n"
   ]
  },
  {
   "cell_type": "code",
   "execution_count": 40,
   "metadata": {},
   "outputs": [
    {
     "name": "stdout",
     "output_type": "stream",
     "text": [
      "(70596,)\n"
     ]
    }
   ],
   "source": [
    "result = []\n",
    "\n",
    "models.append(meta_model_lasso)\n",
    "predict = 0.5*xgb_reg.predict(test_data) + 0.5*lgbm_reg.predict(test_data)\n",
    "print(predict.shape)"
   ]
  },
  {
   "cell_type": "code",
   "execution_count": 41,
   "metadata": {},
   "outputs": [],
   "source": [
    "submission['hold_d']=np.round(predict)\n",
    "submission.to_csv('dacon_final.csv',index=False)"
   ]
  }
 ],
 "metadata": {
  "kernelspec": {
   "display_name": "dl",
   "language": "python",
   "name": "dl"
  },
  "language_info": {
   "codemirror_mode": {
    "name": "ipython",
    "version": 3
   },
   "file_extension": ".py",
   "mimetype": "text/x-python",
   "name": "python",
   "nbconvert_exporter": "python",
   "pygments_lexer": "ipython3",
   "version": "3.9.7"
  }
 },
 "nbformat": 4,
 "nbformat_minor": 4
}
